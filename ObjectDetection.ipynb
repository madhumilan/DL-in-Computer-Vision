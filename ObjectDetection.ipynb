{
  "nbformat": 4,
  "nbformat_minor": 0,
  "metadata": {
    "colab": {
      "name": "ObjectDetection.ipynb",
      "private_outputs": true,
      "provenance": [],
      "collapsed_sections": [],
      "authorship_tag": "ABX9TyOvyRO0SklurCJY3rq5Nn5u",
      "include_colab_link": true
    },
    "kernelspec": {
      "name": "python3",
      "display_name": "Python 3"
    },
    "language_info": {
      "name": "python"
    },
    "accelerator": "TPU"
  },
  "cells": [
    {
      "cell_type": "markdown",
      "metadata": {
        "id": "view-in-github",
        "colab_type": "text"
      },
      "source": [
        "<a href=\"https://colab.research.google.com/github/madhumilan/DL-in-Computer-Vision/blob/main/ObjectDetection.ipynb\" target=\"_parent\"><img src=\"https://colab.research.google.com/assets/colab-badge.svg\" alt=\"Open In Colab\"/></a>"
      ]
    },
    {
      "cell_type": "markdown",
      "metadata": {
        "id": "B_C20B9g_lsh"
      },
      "source": [
        "### **Simple Object Detection in Tensorflow**\n",
        "\n",
        "The following sections will walk us through how to use object detection models available in [Tensorflow Hub](https://www.tensorflow.org/hub). \n",
        "\n",
        "This teaches us to:\n",
        "\n",
        "*   explore the Tensorflow Hub for object detection models\n",
        "\n",
        "*   \n",
        "load the models in your workspace\n",
        "*   \n",
        "preprocess an image for inference\n",
        "\n",
        "\n",
        "*   run inference on the models and inspect the output\n",
        "\n",
        "\n",
        "\n",
        "\n",
        "\n"
      ]
    },
    {
      "cell_type": "code",
      "metadata": {
        "id": "TKaTmcxXAiSk"
      },
      "source": [
        "# Imports\n",
        "import tensorflow as tf\n",
        "import tensorflow_hub as hub\n",
        "from PIL import Image\n",
        "from PIL import ImageOps\n",
        "import tempfile\n",
        "from six.moves.urllib.request import urlopen\n",
        "from six import BytesIO"
      ],
      "execution_count": null,
      "outputs": []
    },
    {
      "cell_type": "markdown",
      "metadata": {
        "id": "CtSmtCKQBwJJ"
      },
      "source": [
        "### **Download the model from Tensorflow Hub**\n",
        "\n",
        "Tensorflow Hub is a repository of trained machine learning models which you can reuse in your own projects.\n",
        "\n",
        "\n",
        "\n",
        "*   You can see the domains covered [here](https://tfhub.dev/) and its subcategories.\n",
        "*   Here we want to look at the image [object detection subcategory](https://tfhub.dev/s?module-type=image-object-detection).\n",
        "*   You can select a model to see more information about it and copy the URL so you can download it to your workspace.\n",
        "*   We selected a [inception resnet version 2](https://tfhub.dev/google/faster_rcnn/openimages_v4/inception_resnet_v2/1)\n",
        "\n"
      ]
    },
    {
      "cell_type": "code",
      "metadata": {
        "id": "gz02tbLXCn2G"
      },
      "source": [
        "# switch the commented lines to pick the other model\n",
        "\n",
        "# Model-inception resnet version 2\n",
        "module_handle = \"https://tfhub.dev/google/faster_rcnn/openimages_v4/inception_resnet_v2/1\"\n",
        "\n",
        "# Model-ssd mobilenet version 2\n",
        "#module_handle = \"https://tfhub.dev/google/openimages_v4/ssd/mobilenet_v2/1\""
      ],
      "execution_count": null,
      "outputs": []
    },
    {
      "cell_type": "markdown",
      "metadata": {
        "id": "Xn9H6tM4Fki0"
      },
      "source": [
        "**Load the model**\n",
        "\n",
        "Load the model specified by the module handle"
      ]
    },
    {
      "cell_type": "code",
      "metadata": {
        "id": "y69vuo_SFcL5"
      },
      "source": [
        "model = hub.load(module_handle)"
      ],
      "execution_count": null,
      "outputs": []
    },
    {
      "cell_type": "markdown",
      "metadata": {
        "id": "aZI78ZjZFzQM"
      },
      "source": [
        "Choose the default signature\n",
        "\n"
      ]
    },
    {
      "cell_type": "code",
      "metadata": {
        "id": "ZeqCAklDFw8v"
      },
      "source": [
        "# Also take a look at the available signatures for this particular model\n",
        "model.signatures.keys()"
      ],
      "execution_count": null,
      "outputs": []
    },
    {
      "cell_type": "markdown",
      "metadata": {
        "id": "_Z7ZZDAaLT82"
      },
      "source": [
        "Choose the 'default' signature for your object detector"
      ]
    },
    {
      "cell_type": "code",
      "metadata": {
        "id": "G-K8FwhmLQor"
      },
      "source": [
        "detector = model.signatures['default']"
      ],
      "execution_count": null,
      "outputs": []
    },
    {
      "cell_type": "markdown",
      "metadata": {
        "id": "KDckj96NMoV1"
      },
      "source": [
        "**download and resize image**\n",
        "\n",
        "This function downloads an image specified by a given url, pre-processes it, and then saves it to disk"
      ]
    },
    {
      "cell_type": "code",
      "metadata": {
        "id": "Vtyty3eiLryc"
      },
      "source": [
        "def download_and_resize_image(url, new_width=256, new_height=256):\n",
        "  '''\n",
        "    Fetches an image online, resizes it and saves it locally.\n",
        "    \n",
        "    Args:\n",
        "        url (string) -- link to the image\n",
        "        new_width (int) -- size in pixels used for resizing the width of the image\n",
        "        new_height (int) -- size in pixels used for resizing the length of the image\n",
        "        \n",
        "    Returns:\n",
        "        (string) -- path to the saved image\n",
        "  '''\n",
        "    \n",
        "    \n",
        "  # create a temporary file ending with \".jpg\"\n",
        "  _, filename = tempfile.mkstemp(suffix=\".jpg\")\n",
        "  \n",
        "  # opens the given URL\n",
        "  response = urlopen(url)\n",
        "  \n",
        "  # reads the image fetched from the URL\n",
        "  image_data = response.read()\n",
        "  \n",
        "  # puts the image data in memory buffer\n",
        "  image_data = BytesIO(image_data)\n",
        "  \n",
        "  # opens the image\n",
        "  pil_image = Image.open(image_data)\n",
        "  \n",
        "  # resizes the image. will crop if aspect ratio is different.\n",
        "  pil_image = ImageOps.fit(pil_image, (new_width, new_height), Image.ANTIALIAS)\n",
        "  \n",
        "  # converts to the RGB colorspace\n",
        "  pil_image_rgb = pil_image.convert(\"RGB\")\n",
        "  \n",
        "  # saves the image to the temporary file created earlier\n",
        "  pil_image_rgb.save(filename, format=\"JPEG\", quality=90)\n",
        "  \n",
        "  print(\"Image downloaded to %s.\" % filename)\n",
        "  \n",
        "  return filename\n",
        "\n"
      ],
      "execution_count": null,
      "outputs": []
    },
    {
      "cell_type": "markdown",
      "metadata": {
        "id": "hRGIw-6PO67T"
      },
      "source": [
        "Download and preprocess an image\n"
      ]
    },
    {
      "cell_type": "code",
      "metadata": {
        "id": "n6DwVAbiNqfu"
      },
      "source": [
        "# Feel free to choose a different URL that points to an image of your choice\n",
        "image_url = \"https://upload.wikimedia.org/wikipedia/commons/f/fb/20130807_dublin014.JPG\"\n",
        "\n",
        "# download the image and use the original height and width\n",
        "downloaded_image_path = download_and_resize_image(image_url, 3872, 2592)"
      ],
      "execution_count": null,
      "outputs": []
    },
    {
      "cell_type": "markdown",
      "metadata": {
        "id": "HBXsHfMRPijy"
      },
      "source": [
        "\n",
        "run_detector\n",
        "\n",
        "This function will take in the object detection model detector and the path to a sample image, then use this model to detect objects and display its predicted class categories and detection boxes.\n",
        "\n",
        "run_detector uses load_img to convert the image into a tensor"
      ]
    },
    {
      "cell_type": "code",
      "metadata": {
        "id": "6YAKtd4TPfY1"
      },
      "source": [
        "def load_img(path):\n",
        "  '''\n",
        "  Loads a JPEG image and converts it to a tensor.\n",
        "  \n",
        "  Args:\n",
        "      path (string) -- path to a locally saved JPEG image\n",
        "  \n",
        "  Returns:\n",
        "      (tensor) -- an image tensor\n",
        "  '''\n",
        "  # read the file\n",
        "  img = tf.io.read_file(path)\n",
        "\n",
        "  # convert to a tensor\n",
        "  img = tf.image.decode_jpeg(img, channels=3)\n",
        "\n",
        "  return img\n",
        "\n",
        "def run_detector(detector, path):\n",
        "  '''\n",
        "  Runs inference on a local file using an object detection model.\n",
        "  \n",
        "  Args:\n",
        "      detector (model) -- an object detection model loaded from TF Hub\n",
        "      path (string) -- path to an image saved locally\n",
        "  '''\n",
        "  \n",
        "  # load an image tensor from a local file path\n",
        "  img = load_img(path)\n",
        "\n",
        "  # add a batch dimension in front of the tensor\n",
        "  converted_img  = tf.image.convert_image_dtype(img, tf.float32)[tf.newaxis, ...]\n",
        "  \n",
        "  # run inference using the model\n",
        "  result = detector(converted_img)\n",
        "\n",
        "  # save the results in a dictionary\n",
        "  result = {key:value.numpy() for key,value in result.items()}\n",
        "\n",
        "  # print results\n",
        "  print(\"Found %d objects.\" % len(result[\"detection_scores\"]))\n",
        "\n",
        "  print(result[\"detection_scores\"])\n",
        "  print(result[\"detection_class_entities\"])\n",
        "  print(result[\"detection_boxes\"])"
      ],
      "execution_count": null,
      "outputs": []
    },
    {
      "cell_type": "markdown",
      "metadata": {
        "id": "e1aV7HdLSetU"
      },
      "source": [
        "**Run inference on the image**\n",
        "\n",
        "Run your detectot by calling the run_detector function. This will print the number of objects found followed by three lists:\n",
        "\n",
        "\n",
        "\n",
        "*   The detection scores of each object found\n",
        "*   The classes of each object found\n",
        "*   The bounding boxes of each object\n",
        "\n"
      ]
    },
    {
      "cell_type": "code",
      "metadata": {
        "id": "Ik94Z6VPQoFb"
      },
      "source": [
        "# runs the object detection model and prints the inforamtion about the objects found\n",
        "run_detector(detector, downloaded_image_path)"
      ],
      "execution_count": null,
      "outputs": []
    },
    {
      "cell_type": "code",
      "metadata": {
        "id": "rEusGREcTMb3"
      },
      "source": [
        ""
      ],
      "execution_count": null,
      "outputs": []
    }
  ]
}